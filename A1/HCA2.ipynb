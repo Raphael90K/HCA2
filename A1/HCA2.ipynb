{
 "cells": [
  {
   "cell_type": "code",
   "id": "a50031ee-61d2-4a72-abd9-d97b209f2fa8",
   "metadata": {
    "ExecuteTime": {
     "end_time": "2024-07-05T19:50:58.556169Z",
     "start_time": "2024-07-05T19:50:58.549331Z"
    }
   },
   "source": [
    "fn smd():\n",
    "    var zahl: UInt32 = 2**31\n",
    "    var simd1: SIMD[DType.int8, zahl] = SIMD[DType.int8, zahl](10)\n",
    "    var sc: Int8 = 3\n",
    "    print(simd1 * sc) \n",
    "\n",
    "smd()\n",
    "    "
   ],
   "outputs": [
    {
     "ename": "SyntaxError",
     "evalue": "invalid syntax (2508331903.py, line 1)",
     "output_type": "error",
     "traceback": [
      "\u001B[1;36m  Cell \u001B[1;32mIn[1], line 1\u001B[1;36m\u001B[0m\n\u001B[1;33m    fn smd():\u001B[0m\n\u001B[1;37m       ^\u001B[0m\n\u001B[1;31mSyntaxError\u001B[0m\u001B[1;31m:\u001B[0m invalid syntax\n"
     ]
    }
   ],
   "execution_count": 1
  },
  {
   "cell_type": "code",
   "execution_count": null,
   "id": "fd21fb96-8e57-4577-ae32-ead66cefbb66",
   "metadata": {},
   "outputs": [],
   "source": []
  },
  {
   "cell_type": "code",
   "execution_count": null,
   "id": "775f100d-3e61-470d-a6ec-a2d11b880a24",
   "metadata": {},
   "outputs": [],
   "source": []
  }
 ],
 "metadata": {
  "kernelspec": {
   "display_name": "Python 3 (ipykernel)",
   "language": "python",
   "name": "python3"
  },
  "language_info": {
   "codemirror_mode": {
    "name": "mojo"
   },
   "file_extension": ".mojo",
   "mimetype": "text/x-mojo",
   "name": "mojo"
  }
 },
 "nbformat": 4,
 "nbformat_minor": 5
}
