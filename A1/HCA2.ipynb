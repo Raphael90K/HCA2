{
 "cells": [
  {
   "cell_type": "code",
   "execution_count": null,
   "id": "a50031ee-61d2-4a72-abd9-d97b209f2fa8",
   "metadata": {},
   "outputs": [
    {
     "name": "error",
     "output_type": "stream",
     "text": [
      "error: \u001b[0;1;31m\u001b[1mExpression [8]:2:5: \u001b[0m\u001b[1muse of unknown declaration 'let', 'fn' declarations require explicit variable declarations\n",
      "\u001b[0m    let zahl: UInt32 = 2**31\n",
      "\u001b[0;1;32m    ^~~\n",
      "\u001b[0m\u001b[0merror: \u001b[0;1;31m\u001b[1mExpression [8]:2:9: \u001b[0m\u001b[1mstatements must start at the beginning of a line\n",
      "\u001b[0m    let zahl: UInt32 = 2**31\n",
      "\u001b[0;1;32m        ^\n",
      "\u001b[0m\u001b[0m"
     ]
    },
    {
     "name": "stderr",
     "output_type": "stream",
     "text": [
      "expression failed to parse (no further compiler diagnostics)"
     ]
    }
   ],
   "source": [
    "fn smd():\n",
    "    let zahl: UInt32 = 2**31\n",
    "    var simd1: SIMD[DType.int8, zahl] = SIMD[DType.int8, zahl](10)\n",
    "    var sc: Int8 = 3\n",
    "    print(simd1 * sc) \n",
    "\n",
    "smd()\n",
    "    "
   ]
  },
  {
   "cell_type": "code",
   "execution_count": null,
   "id": "fd21fb96-8e57-4577-ae32-ead66cefbb66",
   "metadata": {},
   "outputs": [],
   "source": []
  },
  {
   "cell_type": "code",
   "execution_count": null,
   "id": "775f100d-3e61-470d-a6ec-a2d11b880a24",
   "metadata": {},
   "outputs": [],
   "source": []
  }
 ],
 "metadata": {
  "kernelspec": {
   "display_name": "Mojo",
   "language": "mojo",
   "name": "mojo-jupyter-kernel"
  },
  "language_info": {
   "codemirror_mode": {
    "name": "mojo"
   },
   "file_extension": ".mojo",
   "mimetype": "text/x-mojo",
   "name": "mojo"
  }
 },
 "nbformat": 4,
 "nbformat_minor": 5
}
