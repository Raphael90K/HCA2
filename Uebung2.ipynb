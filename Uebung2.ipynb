{
 "cells": [
  {
   "cell_type": "markdown",
   "id": "9ec67abc-7ffa-4bde-987a-f176769058a9",
   "metadata": {},
   "source": [
    "# Übung 2 Raphael Kropp"
   ]
  },
  {
   "cell_type": "markdown",
   "id": "15c056f3-1fd8-43b7-8232-4f0be083eb9b",
   "metadata": {},
   "source": [
    "## Aufgabe 1 Python "
   ]
  },
  {
   "cell_type": "code",
   "execution_count": 1,
   "id": "e3bd340e-0fbe-4f98-8d2f-9ec6adf84623",
   "metadata": {},
   "outputs": [
    {
     "name": "stdout",
     "output_type": "stream",
     "text": [
      "['/usr/lib/python310.zip', '/usr/lib/python3.10', '/usr/lib/python3.10/lib-dynload', '/home/rapha/.local/lib/python3.10/site-packages', '/usr/local/lib/python3.10/dist-packages', '/usr/lib/python3/dist-packages', '.', 'A1', 'A3', 'A4']\n"
     ]
    }
   ],
   "source": [
    "%%python\n",
    "import os \n",
    "import sys\n",
    "sys.path.append(os.path.join(os.path.dirname(__name__), '.'))\n",
    "sys.path.append(os.path.join(os.path.dirname(__name__), 'A1'))\n",
    "sys.path.append(os.path.join(os.path.dirname(__name__), 'A3'))\n",
    "sys.path.append(os.path.join(os.path.dirname(__name__), 'A4'))\n",
    "\n",
    "print(sys.path)"
   ]
  },
  {
   "cell_type": "markdown",
   "id": "a667ec36-3ed4-4f42-b8d5-72c5e238b987",
   "metadata": {},
   "source": [
    "## Aufgabe 1 Python"
   ]
  },
  {
   "cell_type": "code",
   "execution_count": 2,
   "id": "556510db-b9c2-486b-b4f7-6b484d692aa0",
   "metadata": {},
   "outputs": [
    {
     "name": "stdout",
     "output_type": "stream",
     "text": [
      "Frequency: 0.00 Hz, Amplitude: 1641160.11\n",
      "Frequency: 344.53 Hz, Amplitude: 1029072.78\n",
      "Frequency: 4134.38 Hz, Amplitude: 1105567.05\n",
      "12.525827169418335\n"
     ]
    }
   ],
   "source": [
    "%%python\n",
    "from A1 import A1Python\n",
    "\n",
    "sample_rate, audio_data = A1Python.read_wave_file('./Audios/output.wav')\n",
    "durationA1Python = A1Python.calculate(audio_data, sample_rate, block_size=256, offset=1, threshold=1_000_000)\n",
    "print(durationA1Python)"
   ]
  },
  {
   "cell_type": "markdown",
   "id": "470fcdd5-ee58-4714-bf2d-ec292ac70d99",
   "metadata": {},
   "source": [
    "## Aufgabe 1 Mojo"
   ]
  },
  {
   "cell_type": "code",
   "execution_count": null,
   "id": "17633a9b-9938-4761-80ad-e76a0a536929",
   "metadata": {},
   "outputs": [],
   "source": [
    "import A1.A1Mojo as A1Mojo\n",
    "from python import Python, PythonObject\n",
    "from complex import ComplexFloat64\n",
    "\n",
    "var readwav = Python.import_module(\"utils.utils\")\n",
    "\n",
    "var input = readwav.read_wave_file('./Audios/output.wav')\n",
    "var sample_rate = input[0].to_float64()\n",
    "var data_input = input[1]\n",
    "var audio = A1Mojo.ndarray_to_complexlist(data_input)\n",
    "\n",
    "var ampA1 = A1Mojo.amplitude(256 // 2, audio, sample_rate, 256, 1)\n",
    "var durationA1Mojo = A1Mojo.calculate(ampA1, 256, 1000000)\n",
    "print(durationA1Mojo)"
   ]
  },
  {
   "cell_type": "markdown",
   "id": "d811fe0e-7fb1-461c-aaab-d7d169be6d8e",
   "metadata": {},
   "source": [
    "## Aufgabe 3 Python"
   ]
  },
  {
   "cell_type": "code",
   "execution_count": 4,
   "id": "063baa64-3a7a-4872-95e2-8d2998e30840",
   "metadata": {},
   "outputs": [
    {
     "name": "stdout",
     "output_type": "stream",
     "text": [
      "Cores used: 32\n",
      "Frequency: 0.00 Hz, Amplitude: 1641159.91\n",
      "Frequency: 344.53 Hz, Amplitude: 1029072.75\n",
      "Frequency: 4134.38 Hz, Amplitude: 1105567.05\n",
      "1.2486562728881836\n"
     ]
    }
   ],
   "source": [
    "%%python\n",
    "from A3 import A3Python\n",
    "\n",
    "durationA3Python = A3Python.calculate(audio_data, sample_rate, block_size=256, offset=1, threshold=1_000_000)\n",
    "print(durationA3Python)"
   ]
  },
  {
   "cell_type": "markdown",
   "id": "067ce892-cb3a-4669-adb5-8ab757d74091",
   "metadata": {},
   "source": [
    "## Aufgabe 3 Mojo"
   ]
  },
  {
   "cell_type": "code",
   "execution_count": 5,
   "id": "3e063c92-02b3-4fa4-a926-bd44fec448b1",
   "metadata": {},
   "outputs": [
    {
     "name": "stdout",
     "output_type": "stream",
     "text": [
      "Freq:  0.0  :  1640915.9192314148\n",
      "Freq:  344.53125  :  1028808.9644568663\n",
      "Freq:  4134.375  :  1104530.7747034545\n",
      "34.341950158000003\n"
     ]
    }
   ],
   "source": [
    "import A3.A3Mojo as A3Mojo\n",
    "\n",
    "var inputA3 = readwav.read_wave_file('./Audios/output.wav')\n",
    "var sample_rateA3 = input[0].to_float64()\n",
    "var data_inputA3 = input[1]\n",
    "var audioA3 = A3Mojo.ndarray_to_complexlist(data_input)\n",
    "\n",
    "var ampA3 = A3Mojo.ParallelFft(audio, sample_rate, 256, 1)\n",
    "durationA3Mojo = A3Mojo.calculate(ampA3, 1000000)\n",
    "print(durationA3Mojo)"
   ]
  },
  {
   "cell_type": "markdown",
   "id": "fe5343f5-9d97-4e98-a6b2-e7010223176a",
   "metadata": {},
   "source": [
    "### Aufgabe 4 Python"
   ]
  },
  {
   "cell_type": "code",
   "execution_count": 6,
   "id": "b81ea841-f03c-40ab-8da6-615f90541488",
   "metadata": {},
   "outputs": [
    {
     "name": "stdout",
     "output_type": "stream",
     "text": [
      "Batchgröße:  55296\n",
      "Frequency: 0.00 Hz, Amplitude: 1641160.11\n",
      "Frequency: 344.53 Hz, Amplitude: 1029072.78\n",
      "Frequency: 4134.38 Hz, Amplitude: 1105567.05\n",
      "1.005075454711914\n"
     ]
    }
   ],
   "source": [
    "%%python\n",
    "from A4 import A4Batch\n",
    "\n",
    "durationA4Python = A4Batch.calculate(audio_data, sample_rate, block_size=256, offset=1, threshold=1_000_000, batch_size=55296)\n",
    "print(durationA4Python)\n"
   ]
  },
  {
   "cell_type": "code",
   "execution_count": null,
   "id": "542c99f8-c830-4c86-95ce-c4e50c01219e",
   "metadata": {},
   "outputs": [
    {
     "name": "stderr",
     "output_type": "stream",
     "text": [
      "error: Execution was interrupted, reason: signal SIGSEGV: invalid address (fault address: 0x0).\n",
      "The process has been left at the point where it was interrupted, use \"thread return -x\" to return to the state before expression evaluation.\n"
     ]
    }
   ],
   "source": [
    "plt = Python.import_module('matplotlib.pyplot')\n",
    "\n",
    "dauer.append(durationA1Python)\n",
    "dauer.append(durationA1Mojo)\n",
    "dauer.append(durationA3Python)\n",
    "dauer.append(durationA3Mojo)\n",
    "dauer.append(durationA4Python)\n",
    "var labels: PythonObject = Python.list()\n",
    "labels.append('A1Python')\n",
    "labels.append('A1Mojo')\n",
    "labels.append('A3Python')\n",
    "labels.append('A3Mojo')\n",
    "labels.append('A4Python')\n",
    "\n",
    "plt.bar(labels, dauer)\n",
    "\n",
    "plt.xlabel('Implementierung')\n",
    "plt.ylabel('Laufzeit in Sekunden')\n",
    "plt.title('Laufzeitvergleich')"
   ]
  },
  {
   "cell_type": "code",
   "execution_count": 38,
   "id": "0f810f55-5fc1-4b9d-b16a-6892c970d64d",
   "metadata": {},
   "outputs": [],
   "source": [
    "plt.show()"
   ]
  },
  {
   "cell_type": "code",
   "execution_count": 31,
   "id": "9fb499ed-f216-4a84-ab49-e91bec8fd018",
   "metadata": {},
   "outputs": [],
   "source": [
    "plt.show() , PythonObject(durationA1Mojo), durationA3Python, PythonObject(durationA3Mojo), durationA4Python]\n",
    "['A1Python', 'A1Mojo', 'A3Python', 'A3Mojo', 'A4Python']\n",
    "var dauer: PythonObject = Python.list()\n",
    "dauer.append(durationA1Python)\n",
    "# dauer.append(durationA1Mojo)\n",
    "# dauer.append(durationA3Python)\n",
    "# dauer.append(durationA3Mojo)\n",
    "# dauer.append(durationA4Python)\n",
    "var labels: PythonObject = Python.list()\n",
    "labels.append('A1Python')\n",
    "# labels.append('A1Mojo')\n",
    "# labels.append('A3Python')\n",
    "# labels.append('A3Mojo')\n",
    "# labels.append('A4Python')\n"
   ]
  }
 ],
 "metadata": {
  "kernelspec": {
   "display_name": "Mojo",
   "language": "mojo",
   "name": "mojo-jupyter-kernel"
  },
  "language_info": {
   "codemirror_mode": {
    "name": "mojo"
   },
   "file_extension": ".mojo",
   "mimetype": "text/x-mojo",
   "name": "mojo"
  }
 },
 "nbformat": 4,
 "nbformat_minor": 5
}
