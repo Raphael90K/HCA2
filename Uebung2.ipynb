{
 "cells": [
  {
   "cell_type": "markdown",
   "id": "9ec67abc-7ffa-4bde-987a-f176769058a9",
   "metadata": {},
   "source": [
    "# Übung 2 Raphael Kropp"
   ]
  },
  {
   "cell_type": "markdown",
   "id": "15c056f3-1fd8-43b7-8232-4f0be083eb9b",
   "metadata": {},
   "source": [
    "## Aufgabe 1 Python "
   ]
  },
  {
   "cell_type": "code",
   "execution_count": 1,
   "id": "e3bd340e-0fbe-4f98-8d2f-9ec6adf84623",
   "metadata": {},
   "source": [
    "%%python\n",
    "import os \n",
    "import sys\n",
    "sys.path.append(os.path.join(os.path.dirname(__name__), '.'))\n",
    "sys.path.append(os.path.join(os.path.dirname(__name__), 'A1'))\n",
    "sys.path.append(os.path.join(os.path.dirname(__name__), 'A3'))\n",
    "sys.path.append(os.path.join(os.path.dirname(__name__), 'A4'))\n",
    "\n",
    "print(sys.path)"
   ],
   "outputs": []
  },
  {
   "cell_type": "code",
   "execution_count": 2,
   "id": "556510db-b9c2-486b-b4f7-6b484d692aa0",
   "metadata": {},
   "source": [
    "%%python\n",
    "from A1 import A1Python\n",
    "\n",
    "sample_rate, audio_data = A1Python.read_wave_file('./Audios/output.wav')\n",
    "duration = A1Python.calculate(audio_data, sample_rate, block_size=256, offset=1, threshold=1_000_000)\n",
    "print(duration)"
   ],
   "outputs": []
  },
  {
   "cell_type": "markdown",
   "id": "470fcdd5-ee58-4714-bf2d-ec292ac70d99",
   "metadata": {},
   "source": [
    "## Aufgabe 1 Mojo"
   ]
  },
  {
   "cell_type": "code",
   "execution_count": 3,
   "id": "17633a9b-9938-4761-80ad-e76a0a536929",
   "metadata": {},
   "source": [
    "import A1.A1Mojo as A1Mojo\n",
    "from python import Python, PythonObject\n",
    "from complex import ComplexFloat64\n",
    "\n",
    "var readwav = Python.import_module(\"utils.utils\")\n",
    "\n",
    "var input = readwav.read_wave_file('./Audios/output.wav')\n",
    "var sample_rate = input[0].to_float64()\n",
    "var data_input = input[1]\n",
    "var audio = A1Mojo.ndarray_to_complexlist(data_input)\n",
    "\n",
    "var ampA1 = A1Mojo.amplitude(256 // 2, audio, sample_rate, 256, 1)\n",
    "var duration = A1Mojo.calculate(ampA1, 256, 1000000)\n",
    "print(duration)"
   ],
   "outputs": []
  },
  {
   "cell_type": "markdown",
   "id": "d811fe0e-7fb1-461c-aaab-d7d169be6d8e",
   "metadata": {},
   "source": [
    "## Aufgabe 3 Python"
   ]
  },
  {
   "cell_type": "code",
   "execution_count": 4,
   "id": "063baa64-3a7a-4872-95e2-8d2998e30840",
   "metadata": {},
   "source": [
    "%%python\n",
    "from A3 import A3Python\n",
    "\n",
    "duration = A3Python.calculate(audio_data, sample_rate, block_size=256, offset=1, threshold=1_000_000)\n",
    "print(duration)"
   ],
   "outputs": []
  },
  {
   "cell_type": "markdown",
   "id": "067ce892-cb3a-4669-adb5-8ab757d74091",
   "metadata": {},
   "source": [
    "## Aufgabe 3 Mojo"
   ]
  },
  {
   "cell_type": "code",
   "execution_count": 6,
   "id": "3e063c92-02b3-4fa4-a926-bd44fec448b1",
   "metadata": {},
   "source": [
    "import A3.A3Mojo as A3Mojo\n",
    "\n",
    "var inputA3 = readwav.read_wave_file('./Audios/output.wav')\n",
    "var sample_rateA3 = input[0].to_float64()\n",
    "var data_inputA3 = input[1]\n",
    "var audioA3 = A3Mojo.ndarray_to_complexlist(data_input)\n",
    "\n",
    "var ampA3 = A3Mojo.ParallelFft(audio, sample_rate, 256, 1)\n",
    "duration = A3Mojo.calculate(ampA3, 1000000)\n",
    "print(duration)"
   ],
   "outputs": []
  },
  {
   "cell_type": "markdown",
   "id": "fe5343f5-9d97-4e98-a6b2-e7010223176a",
   "metadata": {},
   "source": [
    "### Aufgabe 4 Python"
   ]
  },
  {
   "cell_type": "code",
   "execution_count": 7,
   "id": "b81ea841-f03c-40ab-8da6-615f90541488",
   "metadata": {},
   "source": [
    "%%python\n",
    "from A4 import A4Batch\n",
    "\n",
    "duration = A4Batch.calculate(audio_data, sample_rate, block_size=256, offset=1, threshold=1_000_000, batch_size=55296)\n",
    "print(duration)\n"
   ],
   "outputs": []
  }
 ],
 "metadata": {
  "kernelspec": {
   "display_name": "Mojo",
   "language": "mojo",
   "name": "mojo-jupyter-kernel"
  },
  "language_info": {
   "codemirror_mode": {
    "name": "mojo"
   },
   "file_extension": ".mojo",
   "mimetype": "text/x-mojo",
   "name": "mojo"
  }
 },
 "nbformat": 4,
 "nbformat_minor": 5
}
