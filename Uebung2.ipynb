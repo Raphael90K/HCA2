{
 "cells": [
  {
   "cell_type": "markdown",
   "id": "9ec67abc-7ffa-4bde-987a-f176769058a9",
   "metadata": {},
   "source": [
    "# Übung 2 Raphael Kropp"
   ]
  },
  {
   "cell_type": "markdown",
   "id": "32975cc1-f6af-4d51-8589-6354a6cfd01e",
   "metadata": {},
   "source": [
    "### Dateiinformation\n",
    "Die Vergleichstests wurden mit der output.wav Datei durchgeführt. Die Datei ist eine Minute lang und verwendet die Frequenzen 42, 420 und 4200.\n",
    "\n",
    "### Systeminformation\n",
    "Die Tests wurden auf einem Notebook mit Intel Core i9 13900HX und einer NVidia GeForce RTX 4070 8GB ausgeführt."
   ]
  },
  {
   "cell_type": "markdown",
   "id": "15c056f3-1fd8-43b7-8232-4f0be083eb9b",
   "metadata": {},
   "source": [
    "## Aufgabe 1 Python "
   ]
  },
  {
   "cell_type": "code",
   "execution_count": 1,
   "id": "e3bd340e-0fbe-4f98-8d2f-9ec6adf84623",
   "metadata": {},
   "outputs": [
    {
     "name": "stdout",
     "output_type": "stream",
     "text": [
      "[29699:29718:20240713,220607.597982:ERROR file_io_posix.cc:152] open /home/rapha/.modular/crashdb/pending/f64c60fc-a6bb-4b01-b84c-bf005bae621b.lock: File exists (17)\n"
     ]
    }
   ],
   "source": [
    "%%python\n",
    "import os \n",
    "import sys\n",
    "sys.path.append(os.path.join(os.path.dirname(__name__), '.'))\n",
    "sys.path.append(os.path.join(os.path.dirname(__name__), 'A1'))\n",
    "sys.path.append(os.path.join(os.path.dirname(__name__), 'A3'))\n",
    "sys.path.append(os.path.join(os.path.dirname(__name__), 'A4'))"
   ]
  },
  {
   "cell_type": "markdown",
   "id": "a667ec36-3ed4-4f42-b8d5-72c5e238b987",
   "metadata": {},
   "source": [
    "## Aufgabe 1 Python"
   ]
  },
  {
   "cell_type": "code",
   "execution_count": 2,
   "id": "556510db-b9c2-486b-b4f7-6b484d692aa0",
   "metadata": {},
   "outputs": [
    {
     "name": "stdout",
     "output_type": "stream",
     "text": [
      "Frequency: 0.00 Hz, Amplitude: 1641160.11\n",
      "Frequency: 344.53 Hz, Amplitude: 1029072.78\n",
      "Frequency: 4134.38 Hz, Amplitude: 1105567.05\n",
      "12.887814998626709\n"
     ]
    }
   ],
   "source": [
    "%%python\n",
    "from A1 import A1Python\n",
    "\n",
    "sample_rate, audio_data = A1Python.read_wave_file('./Audios/output.wav')\n",
    "durationA1Python = A1Python.calculate(audio_data, sample_rate, block_size=256, offset=1, threshold=1_000_000)\n",
    "print(durationA1Python)"
   ]
  },
  {
   "cell_type": "markdown",
   "id": "470fcdd5-ee58-4714-bf2d-ec292ac70d99",
   "metadata": {},
   "source": [
    "## Aufgabe 1 Mojo"
   ]
  },
  {
   "cell_type": "code",
   "execution_count": 3,
   "id": "17633a9b-9938-4761-80ad-e76a0a536929",
   "metadata": {},
   "outputs": [
    {
     "name": "stdout",
     "output_type": "stream",
     "text": [
      "Freq:  0.0  :  1641160.1144910036\n",
      "Freq:  344.53125  :  1029072.7470971501\n",
      "Freq:  4134.375  :  1105567.0263031418\n",
      "241.53051382699999\n"
     ]
    }
   ],
   "source": [
    "import A1.A1Mojo as A1Mojo\n",
    "from python import Python, PythonObject\n",
    "from complex import ComplexFloat64\n",
    "\n",
    "var readwav = Python.import_module(\"utils.utils\")\n",
    "\n",
    "var input = readwav.read_wave_file('./Audios/output.wav')\n",
    "var sample_rate = input[0].to_float64()\n",
    "var data_input = input[1]\n",
    "var audio = A1Mojo.ndarray_to_complexlist(data_input)\n",
    "\n",
    "var ampA1 = A1Mojo.amplitude(256 // 2, audio, sample_rate, 256, 1)\n",
    "var durationA1Mojo = A1Mojo.calculate(ampA1, 256, 1000000)\n",
    "print(durationA1Mojo)"
   ]
  },
  {
   "cell_type": "markdown",
   "id": "d811fe0e-7fb1-461c-aaab-d7d169be6d8e",
   "metadata": {},
   "source": [
    "## Aufgabe 3 Python"
   ]
  },
  {
   "cell_type": "code",
   "execution_count": 4,
   "id": "063baa64-3a7a-4872-95e2-8d2998e30840",
   "metadata": {},
   "outputs": [
    {
     "name": "stdout",
     "output_type": "stream",
     "text": [
      "Cores used: 32\n",
      "Frequency: 0.00 Hz, Amplitude: 1641159.91\n",
      "Frequency: 344.53 Hz, Amplitude: 1029072.75\n",
      "Frequency: 4134.38 Hz, Amplitude: 1105567.05\n",
      "1.3409686088562012\n"
     ]
    }
   ],
   "source": [
    "%%python\n",
    "from A3 import A3Python\n",
    "\n",
    "durationA3Python = A3Python.calculate(audio_data, sample_rate, block_size=256, offset=1, threshold=1_000_000)\n",
    "print(durationA3Python)"
   ]
  },
  {
   "cell_type": "markdown",
   "id": "067ce892-cb3a-4669-adb5-8ab757d74091",
   "metadata": {},
   "source": [
    "## Aufgabe 3 Mojo"
   ]
  },
  {
   "cell_type": "code",
   "execution_count": 5,
   "id": "3e063c92-02b3-4fa4-a926-bd44fec448b1",
   "metadata": {},
   "outputs": [
    {
     "name": "stdout",
     "output_type": "stream",
     "text": [
      "Freq:  0.0  :  1640785.186117402\n",
      "Freq:  344.53125  :  1028808.2432693008\n",
      "Freq:  4134.375  :  1104513.9779007167\n",
      "34.077570283999997\n"
     ]
    }
   ],
   "source": [
    "import A3.A3Mojo as A3Mojo\n",
    "\n",
    "var inputA3 = readwav.read_wave_file('./Audios/output.wav')\n",
    "var sample_rateA3 = input[0].to_float64()\n",
    "var data_inputA3 = input[1]\n",
    "var audioA3 = A3Mojo.ndarray_to_complexlist(data_input)\n",
    "\n",
    "var ampA3 = A3Mojo.ParallelFft(audio, sample_rate, 256, 1)\n",
    "durationA3Mojo = A3Mojo.calculate(ampA3, 1000000)\n",
    "print(durationA3Mojo)"
   ]
  },
  {
   "cell_type": "markdown",
   "id": "fe5343f5-9d97-4e98-a6b2-e7010223176a",
   "metadata": {},
   "source": [
    "## Aufgabe 4 Python"
   ]
  },
  {
   "cell_type": "code",
   "execution_count": 6,
   "id": "b81ea841-f03c-40ab-8da6-615f90541488",
   "metadata": {},
   "outputs": [
    {
     "name": "stdout",
     "output_type": "stream",
     "text": [
      "Batchgröße:  55296\n",
      "Frequency: 0.00 Hz, Amplitude: 1641160.11\n",
      "Frequency: 344.53 Hz, Amplitude: 1029072.78\n",
      "Frequency: 4134.38 Hz, Amplitude: 1105567.05\n",
      "1.3953607082366943\n"
     ]
    }
   ],
   "source": [
    "%%python\n",
    "from A4 import A4Batch\n",
    "\n",
    "durationA4Python = A4Batch.calculate(audio_data, sample_rate, block_size=256, offset=1, threshold=1_000_000, batch_size=55296)\n",
    "print(durationA4Python)\n"
   ]
  },
  {
   "cell_type": "code",
   "execution_count": 7,
   "id": "542c99f8-c830-4c86-95ce-c4e50c01219e",
   "metadata": {},
   "outputs": [
    {
     "data": {
      "image/png": "[encoded data removed]"
     },
     "metadata": {},
     "output_type": "display_data"
    },
    {
     "name": "stdout",
     "output_type": "stream",
     "text": [
      "\n"
     ]
    }
   ],
   "source": [
    "plt = Python.import_module('matplotlib.pyplot')\n",
    "\n",
    "var dauer: PythonObject = Python.list()\n",
    "dauer.append(durationA1Python)\n",
    "dauer.append(durationA1Mojo)\n",
    "dauer.append(durationA3Python)\n",
    "dauer.append(durationA3Mojo)\n",
    "dauer.append(durationA4Python)\n",
    "var labels: PythonObject = Python.list()\n",
    "labels.append('A1Python')\n",
    "labels.append('A1Mojo')\n",
    "labels.append('A3Python')\n",
    "labels.append('A3Mojo')\n",
    "labels.append('A4Python')\n",
    "\n",
    "plt.bar(labels, dauer,color='steelblue')\n",
    "\n",
    "plt.xlabel('Implementierung')\n",
    "plt.ylabel('Laufzeit in Sekunden')\n",
    "plt.title('Laufzeitvergleich')\n",
    "plt.show()"
   ]
  },
  {
   "cell_type": "markdown",
   "id": "6fa7ea81-781a-4104-a723-fd928016ba08",
   "metadata": {},
   "source": [
    "## Vergleich zwischen Python A3 und A4\n",
    "Zum Vergleich der Laufzeiten wurde die Parallel- und Grafikkartenimplenentierung auf einer 10 minütigen Audiodatei mit den Frequenzen 42, 420 und 4200 getestet und verglichen."
   ]
  },
  {
   "cell_type": "code",
   "execution_count": 8,
   "id": "ba46bda6-d502-444b-854f-6822a00a9a70",
   "metadata": {},
   "outputs": [
    {
     "name": "stdout",
     "output_type": "stream",
     "text": [
      "seriell\n",
      "Frequency: 43.07 Hz, Amplitude: 5680271.66\n",
      "Frequency: 387.60 Hz, Amplitude: 1688562.34\n",
      "Frequency: 430.66 Hz, Amplitude: 5128267.45\n",
      "Frequency: 473.73 Hz, Amplitude: 1018961.71\n",
      "Frequency: 4134.38 Hz, Amplitude: 1184162.51\n",
      "Frequency: 4177.44 Hz, Amplitude: 3444567.31\n",
      "Frequency: 4220.51 Hz, Amplitude: 3789016.70\n",
      "Frequency: 4263.57 Hz, Amplitude: 1222348.95\n",
      "236.25075721740723 \n",
      "\n",
      "parallel\n",
      "Cores used: 32\n",
      "Frequency: 43.07 Hz, Amplitude: 5680271.66\n",
      "Frequency: 387.60 Hz, Amplitude: 1688562.34\n",
      "Frequency: 430.66 Hz, Amplitude: 5128267.45\n",
      "Frequency: 473.73 Hz, Amplitude: 1018961.71\n",
      "Frequency: 4134.38 Hz, Amplitude: 1184162.51\n",
      "Frequency: 4177.44 Hz, Amplitude: 3444567.31\n",
      "Frequency: 4220.51 Hz, Amplitude: 3789016.70\n",
      "Frequency: 4263.57 Hz, Amplitude: 1222348.95\n",
      "20.35920810699463 \n",
      "\n",
      "grafikbeschleunigt\n",
      "Batchgröße:  55296\n",
      "Frequency: 43.07 Hz, Amplitude: 5680271.66\n",
      "Frequency: 387.60 Hz, Amplitude: 1688562.34\n",
      "Frequency: 430.66 Hz, Amplitude: 5128267.45\n",
      "Frequency: 473.73 Hz, Amplitude: 1018961.71\n",
      "Frequency: 4134.38 Hz, Amplitude: 1184162.51\n",
      "Frequency: 4177.44 Hz, Amplitude: 3444567.31\n",
      "Frequency: 4220.51 Hz, Amplitude: 3789016.70\n",
      "Frequency: 4263.57 Hz, Amplitude: 1222348.95\n",
      "12.682279586791992 \n",
      "\n"
     ]
    }
   ],
   "source": [
    "%%python\n",
    "print('seriell')\n",
    "sample_rate, audio_data = A1Python.read_wave_file('./Audios/sound10minutes.wav')\n",
    "durationA1Python10m = A1Python.calculate(audio_data, sample_rate, block_size=1024, offset=1, threshold=1_000_000)\n",
    "print(durationA1Python10m, '\\n')\n",
    "\n",
    "print('parallel')\n",
    "durationA3Python10m = A3Python.calculate(audio_data, sample_rate, block_size=1024, offset=1, threshold=1_000_000)\n",
    "print(durationA3Python10m, '\\n')\n",
    "\n",
    "print('grafikbeschleunigt')\n",
    "durationA4Python10m = A4Batch.calculate(audio_data, sample_rate, block_size=1024, offset=1, threshold=1_000_000, batch_size=55296)\n",
    "print(durationA4Python10m, '\\n')\n"
   ]
  },
  {
   "cell_type": "code",
   "execution_count": 9,
   "id": "7310bc8b-882a-42fa-b6ed-7d0df1620736",
   "metadata": {},
   "outputs": [
    {
     "data": {
      "image/png": "[encoded data removed]"
     },
     "metadata": {},
     "output_type": "display_data"
    },
    {
     "name": "stdout",
     "output_type": "stream",
     "text": [
      "\n"
     ]
    }
   ],
   "source": [
    "var dauer10m: PythonObject = Python.list()\n",
    "dauer10m.append(durationA1Python10m)\n",
    "dauer10m.append(durationA3Python10m)\n",
    "dauer10m.append(durationA4Python10m)\n",
    "\n",
    "var labels10m: PythonObject = Python.list()\n",
    "labels10m.append('seriell')\n",
    "labels10m.append('parallel')\n",
    "labels10m.append('grafikbeschleunigt')\n",
    "\n",
    "plt.bar(labels10m, dauer10m, color='steelblue')\n",
    "\n",
    "plt.xlabel('Implementierung')\n",
    "plt.ylabel('Laufzeit in Sekunden')\n",
    "plt.title('Laufzeitvergleich Python 10 min wav')\n",
    "plt.show()"
   ]
  }
 ],
 "metadata": {
  "kernelspec": {
   "display_name": "Mojo",
   "language": "mojo",
   "name": "mojo-jupyter-kernel"
  },
  "language_info": {
   "codemirror_mode": {
    "name": "mojo"
   },
   "file_extension": ".mojo",
   "mimetype": "text/x-mojo",
   "name": "mojo"
  }
 },
 "nbformat": 4,
 "nbformat_minor": 5
}
